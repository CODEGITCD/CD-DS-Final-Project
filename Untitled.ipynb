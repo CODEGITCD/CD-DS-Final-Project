{
 "cells": [
  {
   "cell_type": "code",
   "execution_count": 6,
   "id": "c4f78f19-cba4-447f-87a2-dd991ad93e01",
   "metadata": {},
   "outputs": [
    {
     "name": "stdout",
     "output_type": "stream",
     "text": [
      "Requirement already satisfied: pip in c:\\python3\\lib\\site-packages (22.3.1)\n",
      "Collecting pip\n",
      "  Downloading pip-23.2.1-py3-none-any.whl (2.1 MB)\n",
      "     ---------------------------------------- 2.1/2.1 MB 1.6 MB/s eta 0:00:00\n",
      "Installing collected packages: pip\n",
      "  Attempting uninstall: pip\n",
      "    Found existing installation: pip 22.3.1\n",
      "    Uninstalling pip-22.3.1:\n",
      "      Successfully uninstalled pip-22.3.1\n",
      "Successfully installed pip-23.2.1\n",
      "Note: you may need to restart the kernel to use updated packages.\n"
     ]
    },
    {
     "name": "stderr",
     "output_type": "stream",
     "text": [
      "WARNING: Ignoring invalid distribution -atplotlib (c:\\python3\\lib\\site-packages)\n",
      "WARNING: Ignoring invalid distribution -atplotlib (c:\\python3\\lib\\site-packages)\n",
      "WARNING: Ignoring invalid distribution -atplotlib (c:\\python3\\lib\\site-packages)\n",
      "    WARNING: Ignoring invalid distribution -atplotlib (c:\\python3\\lib\\site-packages)\n",
      "WARNING: Ignoring invalid distribution -atplotlib (c:\\python3\\lib\\site-packages)\n",
      "WARNING: Ignoring invalid distribution -atplotlib (c:\\python3\\lib\\site-packages)\n",
      "WARNING: Ignoring invalid distribution -atplotlib (c:\\python3\\lib\\site-packages)\n",
      "WARNING: Ignoring invalid distribution -atplotlib (c:\\python3\\lib\\site-packages)\n"
     ]
    }
   ],
   "source": [
    "pip install --upgrade pip"
   ]
  },
  {
   "cell_type": "code",
   "execution_count": 9,
   "id": "081fd373-5ba8-4eb3-b598-b6e1a93fa7ca",
   "metadata": {},
   "outputs": [
    {
     "name": "stdout",
     "output_type": "stream",
     "text": [
      "Collecting pdf2docx\n",
      "  Downloading pdf2docx-0.5.6-py3-none-any.whl (148 kB)\n",
      "     ------------------------------------ 148.4/148.4 kB 221.0 kB/s eta 0:00:00\n",
      "Collecting PyMuPDF>=1.19.0 (from pdf2docx)\n",
      "  Obtaining dependency information for PyMuPDF>=1.19.0 from https://files.pythonhosted.org/packages/aa/11/a2471ff50ce0a34eee2803df4882d8ac4497dd5f19c43ebbc9920a1cb4f5/PyMuPDF-1.22.5-cp310-cp310-win_amd64.whl.metadata\n",
      "  Downloading PyMuPDF-1.22.5-cp310-cp310-win_amd64.whl.metadata (8.5 kB)\n",
      "Collecting python-docx>=0.8.10 (from pdf2docx)\n",
      "  Downloading python-docx-0.8.11.tar.gz (5.6 MB)\n",
      "     ---------------------------------------- 5.6/5.6 MB 278.0 kB/s eta 0:00:00\n",
      "  Installing build dependencies: started\n",
      "  Installing build dependencies: finished with status 'done'\n",
      "  Getting requirements to build wheel: started\n",
      "  Getting requirements to build wheel: finished with status 'done'\n",
      "  Preparing metadata (pyproject.toml): started\n",
      "  Preparing metadata (pyproject.toml): finished with status 'done'\n",
      "Requirement already satisfied: fonttools>=4.24.0 in c:\\python3\\lib\\site-packages (from pdf2docx) (4.38.0)\n",
      "Requirement already satisfied: numpy>=1.17.2 in c:\\python3\\lib\\site-packages (from pdf2docx) (1.23.4)\n",
      "Collecting opencv-python>=4.5 (from pdf2docx)\n",
      "  Obtaining dependency information for opencv-python>=4.5 from https://files.pythonhosted.org/packages/a6/08/583e1d8d589e80a702815f58daa317bd469a32c7dc339394e2a0dc14318b/opencv_python-4.8.0.74-cp37-abi3-win_amd64.whl.metadata\n",
      "  Downloading opencv_python-4.8.0.74-cp37-abi3-win_amd64.whl.metadata (19 kB)\n",
      "Collecting fire>=0.3.0 (from pdf2docx)\n",
      "  Downloading fire-0.5.0.tar.gz (88 kB)\n",
      "     ---------------------------------------- 88.3/88.3 kB 1.7 MB/s eta 0:00:00\n",
      "  Installing build dependencies: started\n",
      "  Installing build dependencies: finished with status 'done'\n",
      "  Getting requirements to build wheel: started\n",
      "  Getting requirements to build wheel: finished with status 'done'\n",
      "  Preparing metadata (pyproject.toml): started\n",
      "  Preparing metadata (pyproject.toml): finished with status 'done'\n",
      "Requirement already satisfied: six in c:\\python3\\lib\\site-packages (from fire>=0.3.0->pdf2docx) (1.16.0)\n",
      "Collecting termcolor (from fire>=0.3.0->pdf2docx)\n",
      "  Downloading termcolor-2.3.0-py3-none-any.whl (6.9 kB)\n",
      "Collecting lxml>=2.3.2 (from python-docx>=0.8.10->pdf2docx)\n",
      "  Obtaining dependency information for lxml>=2.3.2 from https://files.pythonhosted.org/packages/50/ba/cb7bc9728a3be4e00dfd658fc76dc64fd9dbc3d5492ff44cda70574329c6/lxml-4.9.3-cp310-cp310-win_amd64.whl.metadata\n",
      "  Downloading lxml-4.9.3-cp310-cp310-win_amd64.whl.metadata (3.9 kB)\n",
      "Downloading opencv_python-4.8.0.74-cp37-abi3-win_amd64.whl (38.1 MB)\n",
      "   ---------------------------------------- 38.1/38.1 MB 1.3 MB/s eta 0:00:00\n",
      "Downloading PyMuPDF-1.22.5-cp310-cp310-win_amd64.whl (11.8 MB)\n",
      "   ---------------------------------------- 11.8/11.8 MB 1.5 MB/s eta 0:00:00\n",
      "Downloading lxml-4.9.3-cp310-cp310-win_amd64.whl (3.8 MB)\n",
      "   ---------------------------------------- 3.8/3.8 MB 2.2 MB/s eta 0:00:00\n",
      "Building wheels for collected packages: fire, python-docx\n",
      "  Building wheel for fire (pyproject.toml): started\n",
      "  Building wheel for fire (pyproject.toml): finished with status 'done'\n",
      "  Created wheel for fire: filename=fire-0.5.0-py2.py3-none-any.whl size=116948 sha256=76be01195c0d680769809b62a7b95dc55a16021c31c9f2785c96c655dcd2f00c\n",
      "  Stored in directory: c:\\users\\mrman\\appdata\\local\\pip\\cache\\wheels\\90\\d4\\f7\\9404e5db0116bd4d43e5666eaa3e70ab53723e1e3ea40c9a95\n",
      "  Building wheel for python-docx (pyproject.toml): started\n",
      "  Building wheel for python-docx (pyproject.toml): finished with status 'done'\n",
      "  Created wheel for python-docx: filename=python_docx-0.8.11-py3-none-any.whl size=184518 sha256=b9bc7a41337ced036f42373fe451af79669b9032ae72af8a15df7d4a9d2bbcb1\n",
      "  Stored in directory: c:\\users\\mrman\\appdata\\local\\pip\\cache\\wheels\\80\\27\\06\\837436d4c3bd989b957a91679966f207bfd71d358d63a8194d\n",
      "Successfully built fire python-docx\n",
      "Installing collected packages: termcolor, PyMuPDF, opencv-python, lxml, python-docx, fire, pdf2docx\n",
      "Successfully installed PyMuPDF-1.22.5 fire-0.5.0 lxml-4.9.3 opencv-python-4.8.0.74 pdf2docx-0.5.6 python-docx-0.8.11 termcolor-2.3.0\n",
      "Note: you may need to restart the kernel to use updated packages.\n"
     ]
    },
    {
     "name": "stderr",
     "output_type": "stream",
     "text": [
      "WARNING: Ignoring invalid distribution -atplotlib (c:\\python3\\lib\\site-packages)\n",
      "WARNING: Ignoring invalid distribution -atplotlib (c:\\python3\\lib\\site-packages)\n"
     ]
    }
   ],
   "source": [
    "pip install pdf2docx"
   ]
  },
  {
   "cell_type": "code",
   "execution_count": 12,
   "id": "29d641bf-1141-416e-bd6e-d9f9d417b9a4",
   "metadata": {},
   "outputs": [],
   "source": [
    "from pdf2docx import Converter"
   ]
  },
  {
   "cell_type": "code",
   "execution_count": 13,
   "id": "d689d9df-e5c0-404b-86a7-a24b499edbc3",
   "metadata": {},
   "outputs": [],
   "source": [
    "pdf=r'C:\\Users\\MrMan\\Downloads\\Carlos Dominguez Resume (1).pdf'"
   ]
  },
  {
   "cell_type": "code",
   "execution_count": 14,
   "id": "ddf97f19-0e4c-48ab-b043-85ed5ff0cc5b",
   "metadata": {},
   "outputs": [],
   "source": [
    "docx=r'C:\\Users\\MrMan\\Downloads\\Carlos Dominguez Resume (1).pdf.docx'"
   ]
  },
  {
   "cell_type": "code",
   "execution_count": 15,
   "id": "34de5e96-dc4d-4f85-931c-fe9b44c23e1a",
   "metadata": {},
   "outputs": [],
   "source": [
    "cv=Converter(pdf)"
   ]
  },
  {
   "cell_type": "code",
   "execution_count": 16,
   "id": "777111a5-c824-4b1e-a89e-6e2de03896c1",
   "metadata": {},
   "outputs": [
    {
     "name": "stderr",
     "output_type": "stream",
     "text": [
      "[INFO] Start to convert C:\\Users\\MrMan\\Downloads\\Carlos Dominguez Resume (1).pdf\n",
      "[INFO] \u001b[1;36m[1/4] Opening document...\u001b[0m\n",
      "[INFO] \u001b[1;36m[2/4] Analyzing document...\u001b[0m\n",
      "[WARNING] 'created' timestamp seems very low; regarding as unix timestamp\n",
      "[WARNING] 'modified' timestamp seems very low; regarding as unix timestamp\n",
      "[WARNING] 'created' timestamp seems very low; regarding as unix timestamp\n",
      "[WARNING] 'modified' timestamp seems very low; regarding as unix timestamp\n",
      "[INFO] \u001b[1;36m[3/4] Parsing pages...\u001b[0m\n",
      "[INFO] (1/1) Page 1\n",
      "[INFO] \u001b[1;36m[4/4] Creating pages...\u001b[0m\n",
      "[INFO] (1/1) Page 1\n",
      "[INFO] Terminated in 25.39s.\n"
     ]
    }
   ],
   "source": [
    "cv.convert(docx)"
   ]
  },
  {
   "cell_type": "code",
   "execution_count": null,
   "id": "0041dd45-56ed-4f50-9a49-15bcc6bd1ad8",
   "metadata": {},
   "outputs": [],
   "source": []
  }
 ],
 "metadata": {
  "kernelspec": {
   "display_name": "Python 3 (ipykernel)",
   "language": "python",
   "name": "python3"
  },
  "language_info": {
   "codemirror_mode": {
    "name": "ipython",
    "version": 3
   },
   "file_extension": ".py",
   "mimetype": "text/x-python",
   "name": "python",
   "nbconvert_exporter": "python",
   "pygments_lexer": "ipython3",
   "version": "3.10.7"
  }
 },
 "nbformat": 4,
 "nbformat_minor": 5
}
